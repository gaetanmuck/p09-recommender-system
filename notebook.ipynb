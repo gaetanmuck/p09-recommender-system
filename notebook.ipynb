{
 "cells": [
  {
   "cell_type": "markdown",
   "metadata": {},
   "source": [
    "# Technical parts"
   ]
  },
  {
   "cell_type": "code",
   "execution_count": 1,
   "metadata": {},
   "outputs": [],
   "source": [
    "# Global Variables\n",
    "articles_embeddings_path = '../data/news-portal-user-interactions-by-globocom/articles_embeddings.pickle'\n",
    "articles_metadata_path = '../data/news-portal-user-interactions-by-globocom/articles_metadata.csv'\n",
    "clicks_sample_path = '../data/news-portal-user-interactions-by-globocom/clicks_sample.csv'\n",
    "clicks_folder = '../data/news-portal-user-interactions-by-globocom/clicks/'\n",
    "interests_path = '../data/interests.csv'"
   ]
  },
  {
   "cell_type": "code",
   "execution_count": 2,
   "metadata": {},
   "outputs": [],
   "source": [
    "# Imports\n",
    "import os\n",
    "import pandas as pd, numpy as np\n",
    "from datetime import datetime\n",
    "import matplotlib.pyplot as mpl\n",
    "from random import sample\n",
    "\n",
    "\n",
    "# Personal library imports:\n",
    "import sys; sys.path.insert(0, '../../lib2')\n",
    "import utils as u\n",
    "import stats as s\n",
    "%load_ext magic_skip\n",
    "%load_ext autoreload\n",
    "%autoreload 2\n",
    "\n",
    "\n",
    "# Recommender library\n",
    "from surprise import Dataset, SVD, Reader, accuracy\n",
    "from surprise.model_selection import cross_validate\n",
    "from surprise.model_selection import train_test_split\n",
    "from surprise.model_selection import GridSearchCV\n",
    "from scipy import spatial\n",
    "from sklearn.metrics.pairwise import euclidean_distances"
   ]
  },
  {
   "cell_type": "markdown",
   "metadata": {},
   "source": [
    "# Data"
   ]
  },
  {
   "cell_type": "code",
   "execution_count": 3,
   "metadata": {},
   "outputs": [
    {
     "data": {
      "text/html": [
       "<div>\n",
       "<style scoped>\n",
       "    .dataframe tbody tr th:only-of-type {\n",
       "        vertical-align: middle;\n",
       "    }\n",
       "\n",
       "    .dataframe tbody tr th {\n",
       "        vertical-align: top;\n",
       "    }\n",
       "\n",
       "    .dataframe thead th {\n",
       "        text-align: right;\n",
       "    }\n",
       "</style>\n",
       "<table border=\"1\" class=\"dataframe\">\n",
       "  <thead>\n",
       "    <tr style=\"text-align: right;\">\n",
       "      <th></th>\n",
       "      <th>article_id</th>\n",
       "      <th>category_id</th>\n",
       "      <th>created_at_ts</th>\n",
       "      <th>publisher_id</th>\n",
       "      <th>words_count</th>\n",
       "    </tr>\n",
       "  </thead>\n",
       "  <tbody>\n",
       "    <tr>\n",
       "      <th>0</th>\n",
       "      <td>0</td>\n",
       "      <td>0</td>\n",
       "      <td>1513144419000</td>\n",
       "      <td>0</td>\n",
       "      <td>168</td>\n",
       "    </tr>\n",
       "    <tr>\n",
       "      <th>1</th>\n",
       "      <td>1</td>\n",
       "      <td>1</td>\n",
       "      <td>1405341936000</td>\n",
       "      <td>0</td>\n",
       "      <td>189</td>\n",
       "    </tr>\n",
       "    <tr>\n",
       "      <th>2</th>\n",
       "      <td>2</td>\n",
       "      <td>1</td>\n",
       "      <td>1408667706000</td>\n",
       "      <td>0</td>\n",
       "      <td>250</td>\n",
       "    </tr>\n",
       "    <tr>\n",
       "      <th>3</th>\n",
       "      <td>3</td>\n",
       "      <td>1</td>\n",
       "      <td>1408468313000</td>\n",
       "      <td>0</td>\n",
       "      <td>230</td>\n",
       "    </tr>\n",
       "    <tr>\n",
       "      <th>4</th>\n",
       "      <td>4</td>\n",
       "      <td>1</td>\n",
       "      <td>1407071171000</td>\n",
       "      <td>0</td>\n",
       "      <td>162</td>\n",
       "    </tr>\n",
       "  </tbody>\n",
       "</table>\n",
       "</div>"
      ],
      "text/plain": [
       "   article_id  category_id  created_at_ts  publisher_id  words_count\n",
       "0           0            0  1513144419000             0          168\n",
       "1           1            1  1405341936000             0          189\n",
       "2           2            1  1408667706000             0          250\n",
       "3           3            1  1408468313000             0          230\n",
       "4           4            1  1407071171000             0          162"
      ]
     },
     "metadata": {},
     "output_type": "display_data"
    },
    {
     "name": "stdout",
     "output_type": "stream",
     "text": [
      "Shape: (364047, 5)\n"
     ]
    }
   ],
   "source": [
    "articles = pd.read_csv(articles_metadata_path)\n",
    "\n",
    "display(articles.head())\n",
    "print('Shape:', articles.shape)"
   ]
  },
  {
   "cell_type": "code",
   "execution_count": 4,
   "metadata": {},
   "outputs": [
    {
     "name": "stdout",
     "output_type": "stream",
     "text": [
      "Loading clicks ran in 0min 2sec                                                                                 \n"
     ]
    },
    {
     "data": {
      "text/html": [
       "<div>\n",
       "<style scoped>\n",
       "    .dataframe tbody tr th:only-of-type {\n",
       "        vertical-align: middle;\n",
       "    }\n",
       "\n",
       "    .dataframe tbody tr th {\n",
       "        vertical-align: top;\n",
       "    }\n",
       "\n",
       "    .dataframe thead th {\n",
       "        text-align: right;\n",
       "    }\n",
       "</style>\n",
       "<table border=\"1\" class=\"dataframe\">\n",
       "  <thead>\n",
       "    <tr style=\"text-align: right;\">\n",
       "      <th></th>\n",
       "      <th>user_id</th>\n",
       "      <th>session_id</th>\n",
       "      <th>session_start</th>\n",
       "      <th>session_size</th>\n",
       "      <th>click_article_id</th>\n",
       "      <th>click_timestamp</th>\n",
       "      <th>click_environment</th>\n",
       "      <th>click_deviceGroup</th>\n",
       "      <th>click_os</th>\n",
       "      <th>click_country</th>\n",
       "      <th>click_region</th>\n",
       "      <th>click_referrer_type</th>\n",
       "    </tr>\n",
       "  </thead>\n",
       "  <tbody>\n",
       "    <tr>\n",
       "      <th>0</th>\n",
       "      <td>266512</td>\n",
       "      <td>1508070980213459</td>\n",
       "      <td>1508070980000</td>\n",
       "      <td>2</td>\n",
       "      <td>74722</td>\n",
       "      <td>1508072399889</td>\n",
       "      <td>4</td>\n",
       "      <td>3</td>\n",
       "      <td>2</td>\n",
       "      <td>1</td>\n",
       "      <td>21</td>\n",
       "      <td>4</td>\n",
       "    </tr>\n",
       "    <tr>\n",
       "      <th>1</th>\n",
       "      <td>266512</td>\n",
       "      <td>1508070980213459</td>\n",
       "      <td>1508070980000</td>\n",
       "      <td>2</td>\n",
       "      <td>74702</td>\n",
       "      <td>1508072429889</td>\n",
       "      <td>4</td>\n",
       "      <td>3</td>\n",
       "      <td>2</td>\n",
       "      <td>1</td>\n",
       "      <td>21</td>\n",
       "      <td>4</td>\n",
       "    </tr>\n",
       "    <tr>\n",
       "      <th>2</th>\n",
       "      <td>309167</td>\n",
       "      <td>1508070989131460</td>\n",
       "      <td>1508070989000</td>\n",
       "      <td>3</td>\n",
       "      <td>337143</td>\n",
       "      <td>1508071659863</td>\n",
       "      <td>4</td>\n",
       "      <td>3</td>\n",
       "      <td>2</td>\n",
       "      <td>1</td>\n",
       "      <td>25</td>\n",
       "      <td>1</td>\n",
       "    </tr>\n",
       "    <tr>\n",
       "      <th>3</th>\n",
       "      <td>309167</td>\n",
       "      <td>1508070989131460</td>\n",
       "      <td>1508070989000</td>\n",
       "      <td>3</td>\n",
       "      <td>237822</td>\n",
       "      <td>1508071825360</td>\n",
       "      <td>4</td>\n",
       "      <td>3</td>\n",
       "      <td>2</td>\n",
       "      <td>1</td>\n",
       "      <td>25</td>\n",
       "      <td>1</td>\n",
       "    </tr>\n",
       "    <tr>\n",
       "      <th>4</th>\n",
       "      <td>309167</td>\n",
       "      <td>1508070989131460</td>\n",
       "      <td>1508070989000</td>\n",
       "      <td>3</td>\n",
       "      <td>284154</td>\n",
       "      <td>1508071855360</td>\n",
       "      <td>4</td>\n",
       "      <td>3</td>\n",
       "      <td>2</td>\n",
       "      <td>1</td>\n",
       "      <td>25</td>\n",
       "      <td>1</td>\n",
       "    </tr>\n",
       "  </tbody>\n",
       "</table>\n",
       "</div>"
      ],
      "text/plain": [
       "  user_id        session_id  session_start session_size click_article_id  \\\n",
       "0  266512  1508070980213459  1508070980000            2            74722   \n",
       "1  266512  1508070980213459  1508070980000            2            74702   \n",
       "2  309167  1508070989131460  1508070989000            3           337143   \n",
       "3  309167  1508070989131460  1508070989000            3           237822   \n",
       "4  309167  1508070989131460  1508070989000            3           284154   \n",
       "\n",
       "  click_timestamp click_environment click_deviceGroup click_os click_country  \\\n",
       "0   1508072399889                 4                 3        2             1   \n",
       "1   1508072429889                 4                 3        2             1   \n",
       "2   1508071659863                 4                 3        2             1   \n",
       "3   1508071825360                 4                 3        2             1   \n",
       "4   1508071855360                 4                 3        2             1   \n",
       "\n",
       "  click_region click_referrer_type  \n",
       "0           21                   4  \n",
       "1           21                   4  \n",
       "2           25                   1  \n",
       "3           25                   1  \n",
       "4           25                   1  "
      ]
     },
     "metadata": {},
     "output_type": "display_data"
    },
    {
     "name": "stdout",
     "output_type": "stream",
     "text": [
      "Shape: (2988181, 12)\n"
     ]
    }
   ],
   "source": [
    "clicks = []\n",
    "\n",
    "paths = os.listdir(clicks_folder)\n",
    "u.eta(step='begin', length=len(paths), text='Loading clicks')\n",
    "for path in paths:\n",
    "    clicks.append(pd.read_csv(clicks_folder + path))\n",
    "    u.eta()\n",
    "u.eta(step='end')\n",
    "\n",
    "clicks = pd.concat(clicks)\n",
    "\n",
    "display(clicks.head())\n",
    "print('Shape:', clicks.shape)"
   ]
  },
  {
   "cell_type": "markdown",
   "metadata": {},
   "source": [
    "# Exploratory analysis"
   ]
  },
  {
   "cell_type": "markdown",
   "metadata": {},
   "source": [
    "### Users"
   ]
  },
  {
   "cell_type": "code",
   "execution_count": 5,
   "metadata": {},
   "outputs": [
    {
     "data": {
      "text/html": [
       "<div>\n",
       "<style scoped>\n",
       "    .dataframe tbody tr th:only-of-type {\n",
       "        vertical-align: middle;\n",
       "    }\n",
       "\n",
       "    .dataframe tbody tr th {\n",
       "        vertical-align: top;\n",
       "    }\n",
       "\n",
       "    .dataframe thead th {\n",
       "        text-align: right;\n",
       "    }\n",
       "</style>\n",
       "<table border=\"1\" class=\"dataframe\">\n",
       "  <thead>\n",
       "    <tr style=\"text-align: right;\">\n",
       "      <th></th>\n",
       "      <th>user_id</th>\n",
       "      <th>click_deviceGroup</th>\n",
       "      <th>click_os</th>\n",
       "      <th>click_country</th>\n",
       "      <th>click_region</th>\n",
       "      <th>click_referrer_type</th>\n",
       "    </tr>\n",
       "  </thead>\n",
       "  <tbody>\n",
       "    <tr>\n",
       "      <th>0</th>\n",
       "      <td>0</td>\n",
       "      <td>3</td>\n",
       "      <td>20</td>\n",
       "      <td>1</td>\n",
       "      <td>20</td>\n",
       "      <td>2</td>\n",
       "    </tr>\n",
       "    <tr>\n",
       "      <th>1</th>\n",
       "      <td>1</td>\n",
       "      <td>1</td>\n",
       "      <td>17</td>\n",
       "      <td>1</td>\n",
       "      <td>16</td>\n",
       "      <td>2</td>\n",
       "    </tr>\n",
       "    <tr>\n",
       "      <th>2</th>\n",
       "      <td>2</td>\n",
       "      <td>1</td>\n",
       "      <td>17</td>\n",
       "      <td>1</td>\n",
       "      <td>24</td>\n",
       "      <td>2</td>\n",
       "    </tr>\n",
       "    <tr>\n",
       "      <th>3</th>\n",
       "      <td>3</td>\n",
       "      <td>3</td>\n",
       "      <td>2</td>\n",
       "      <td>1</td>\n",
       "      <td>21</td>\n",
       "      <td>1</td>\n",
       "    </tr>\n",
       "    <tr>\n",
       "      <th>4</th>\n",
       "      <td>4</td>\n",
       "      <td>1</td>\n",
       "      <td>17</td>\n",
       "      <td>1</td>\n",
       "      <td>16</td>\n",
       "      <td>1</td>\n",
       "    </tr>\n",
       "  </tbody>\n",
       "</table>\n",
       "</div>"
      ],
      "text/plain": [
       "   user_id  click_deviceGroup  click_os  click_country  click_region  \\\n",
       "0        0                  3        20              1            20   \n",
       "1        1                  1        17              1            16   \n",
       "2        2                  1        17              1            24   \n",
       "3        3                  3         2              1            21   \n",
       "4        4                  1        17              1            16   \n",
       "\n",
       "   click_referrer_type  \n",
       "0                    2  \n",
       "1                    2  \n",
       "2                    2  \n",
       "3                    1  \n",
       "4                    1  "
      ]
     },
     "metadata": {},
     "output_type": "display_data"
    },
    {
     "name": "stdout",
     "output_type": "stream",
     "text": [
      "Shape: (322897, 6)\n"
     ]
    }
   ],
   "source": [
    "# Exec time: 3m\n",
    "\n",
    "users = clicks.drop(columns=['session_id', 'session_start', 'session_size', 'click_article_id', 'click_timestamp', 'click_environment']).groupby(by='user_id').mean().reset_index()\n",
    "users['click_deviceGroup'] = users['click_deviceGroup'].astype(int)\n",
    "users['click_os'] = users['click_os'].astype(int)\n",
    "users['click_country'] = users['click_country'].astype(int)\n",
    "users['click_region'] = users['click_region'].astype(int)\n",
    "users['click_referrer_type'] = users['click_referrer_type'].astype(int)\n",
    "display(users.head())\n",
    "print('Shape:', users.shape)"
   ]
  },
  {
   "cell_type": "code",
   "execution_count": 6,
   "metadata": {},
   "outputs": [
    {
     "data": {
      "image/png": "[encoded data removed]",
      "text/plain": [
       "<Figure size 432x288 with 1 Axes>"
      ]
     },
     "metadata": {
      "needs_background": "light"
     },
     "output_type": "display_data"
    },
    {
     "data": {
      "image/png": "[encoded data removed]",
      "text/plain": [
       "<Figure size 432x288 with 1 Axes>"
      ]
     },
     "metadata": {
      "needs_background": "light"
     },
     "output_type": "display_data"
    },
    {
     "data": {
      "image/png": "[encoded data removed]",
      "text/plain": [
       "<Figure size 432x288 with 1 Axes>"
      ]
     },
     "metadata": {
      "needs_background": "light"
     },
     "output_type": "display_data"
    },
    {
     "data": {
      "image/png": "[encoded data removed]",
      "text/plain": [
       "<Figure size 432x288 with 1 Axes>"
      ]
     },
     "metadata": {
      "needs_background": "light"
     },
     "output_type": "display_data"
    },
    {
     "data": {
      "image/png": "[encoded data removed]",
      "text/plain": [
       "<Figure size 432x288 with 1 Axes>"
      ]
     },
     "metadata": {
      "needs_background": "light"
     },
     "output_type": "display_data"
    }
   ],
   "source": [
    "s.histogram(users['click_deviceGroup'], 'Device Group', 'Device Group')\n",
    "s.histogram(users['click_os'], 'Operating System', 'Operating System')\n",
    "s.histogram(users['click_country'], 'Country', 'Country')\n",
    "s.histogram(users['click_region'], 'Region', 'Region')\n",
    "s.histogram(users['click_referrer_type'], 'Referrer Type', 'Referrer Type')"
   ]
  },
  {
   "cell_type": "markdown",
   "metadata": {},
   "source": [
    "### Articles"
   ]
  },
  {
   "cell_type": "code",
   "execution_count": 7,
   "metadata": {},
   "outputs": [
    {
     "name": "stdout",
     "output_type": "stream",
     "text": [
      "Article count: 46033\n"
     ]
    }
   ],
   "source": [
    "print('Article count:', len(clicks['click_article_id'].unique()))"
   ]
  },
  {
   "cell_type": "markdown",
   "metadata": {},
   "source": [
    "### Sessions"
   ]
  },
  {
   "cell_type": "code",
   "execution_count": 8,
   "metadata": {},
   "outputs": [],
   "source": [
    "# Exec time: 50s\n",
    "\n",
    "sessions = clicks[['session_id', 'session_size']].groupby(by='session_id').mean()"
   ]
  },
  {
   "cell_type": "code",
   "execution_count": 9,
   "metadata": {},
   "outputs": [
    {
     "name": "stdout",
     "output_type": "stream",
     "text": [
      "Average session size: 2.8497025540867105\n"
     ]
    }
   ],
   "source": [
    "print('Average session size:', sessions['session_size'].mean())"
   ]
  },
  {
   "cell_type": "markdown",
   "metadata": {},
   "source": [
    "### Activity time"
   ]
  },
  {
   "cell_type": "code",
   "execution_count": 10,
   "metadata": {},
   "outputs": [],
   "source": [
    "times = pd.DataFrame()\n",
    "\n",
    "times['date'] = pd.to_datetime(clicks['click_timestamp'], unit='ms')\n",
    "times['weekday'] = [x.isoweekday() for x in times['date']]\n",
    "times['hours'] = [x.hour for x in times['date']]"
   ]
  },
  {
   "cell_type": "code",
   "execution_count": 11,
   "metadata": {},
   "outputs": [
    {
     "data": {
      "image/png": "[encoded data removed]",
      "text/plain": [
       "<Figure size 432x288 with 1 Axes>"
      ]
     },
     "metadata": {
      "needs_background": "light"
     },
     "output_type": "display_data"
    },
    {
     "data": {
      "image/png": "[encoded data removed]",
      "text/plain": [
       "<Figure size 432x576 with 1 Axes>"
      ]
     },
     "metadata": {
      "needs_background": "light"
     },
     "output_type": "display_data"
    }
   ],
   "source": [
    "s.histogram(times['weekday'], 'Week day', 'Week day', sort='index')\n",
    "mpl.figure(figsize=(6, 8))\n",
    "s.histogram(times['hours'], 'Hours', 'Hours', sort='index')"
   ]
  },
  {
   "cell_type": "markdown",
   "metadata": {},
   "source": [
    "### Interactions"
   ]
  },
  {
   "cell_type": "code",
   "execution_count": 12,
   "metadata": {},
   "outputs": [
    {
     "name": "stdout",
     "output_type": "stream",
     "text": [
      "Users with more than 50 clicks: 6365 (1.97%)\n"
     ]
    },
    {
     "data": {
      "image/png": "[encoded data removed]",
      "text/plain": [
       "<Figure size 432x288 with 1 Axes>"
      ]
     },
     "metadata": {
      "needs_background": "light"
     },
     "output_type": "display_data"
    }
   ],
   "source": [
    "interactions = clicks[['user_id', 'click_deviceGroup']].groupby('user_id').count()\n",
    "\n",
    "many_click_users = len(interactions[interactions['click_deviceGroup'] > 50])\n",
    "total = len(interactions)\n",
    "print('Users with more than 50 clicks:', many_click_users, '(' + u.percent(many_click_users / total) + ')')\n",
    "\n",
    "interactions_for_graph = interactions[interactions['click_deviceGroup'] <= 50]\n",
    "\n",
    "mpl.title('Click counts for users histogram')\n",
    "z = interactions_for_graph['click_deviceGroup'].hist(bins=50)\n"
   ]
  },
  {
   "cell_type": "markdown",
   "metadata": {},
   "source": [
    "# Collaborative Filtering"
   ]
  },
  {
   "cell_type": "markdown",
   "metadata": {},
   "source": [
    "Using only pure collaborative filtering, with no content base property at all is difficult in this case: we do not have ratings for users, articles, but only clicks. The goal would be to know which article a user likes. We have tried to deduct the preferences according to that clicks, but the problem we have is that only one click on an article does not mean the user does not like the article compared to multiple clicks on an article. It can also be linked to the length of the article, the complexity, the subjects, the informations displayed in this article etc. So with the information provided we are not able to deduct the users preferences only based on the clicks.\n",
    "\n",
    "\n",
    "The strategy I chose to use is to incorporate a content base feature along the collaborative filtering. That makes the next strategy a bit of an hybrid one, but since we can not make it pure Collaborative filtering, it is the best I happen to try.\n",
    "\n",
    "I will proceed as the following:\n",
    "According to the clicks, we know what article the user checks and thus the category he looks the most, so we are going to count how much articles for each categories the user likes, and use the population to analyse which new category could please the user."
   ]
  },
  {
   "cell_type": "markdown",
   "metadata": {},
   "source": [
    "### First, we look which articles the user is interested in, not depending on click number, according to previous explaination"
   ]
  },
  {
   "cell_type": "code",
   "execution_count": 13,
   "metadata": {},
   "outputs": [
    {
     "data": {
      "text/html": [
       "<div>\n",
       "<style scoped>\n",
       "    .dataframe tbody tr th:only-of-type {\n",
       "        vertical-align: middle;\n",
       "    }\n",
       "\n",
       "    .dataframe tbody tr th {\n",
       "        vertical-align: top;\n",
       "    }\n",
       "\n",
       "    .dataframe thead th {\n",
       "        text-align: right;\n",
       "    }\n",
       "</style>\n",
       "<table border=\"1\" class=\"dataframe\">\n",
       "  <thead>\n",
       "    <tr style=\"text-align: right;\">\n",
       "      <th></th>\n",
       "      <th>user_id</th>\n",
       "      <th>click_article_id</th>\n",
       "    </tr>\n",
       "  </thead>\n",
       "  <tbody>\n",
       "    <tr>\n",
       "      <th>0</th>\n",
       "      <td>266512</td>\n",
       "      <td>74722</td>\n",
       "    </tr>\n",
       "    <tr>\n",
       "      <th>1</th>\n",
       "      <td>266512</td>\n",
       "      <td>74702</td>\n",
       "    </tr>\n",
       "    <tr>\n",
       "      <th>2</th>\n",
       "      <td>309167</td>\n",
       "      <td>337143</td>\n",
       "    </tr>\n",
       "    <tr>\n",
       "      <th>3</th>\n",
       "      <td>309167</td>\n",
       "      <td>237822</td>\n",
       "    </tr>\n",
       "    <tr>\n",
       "      <th>4</th>\n",
       "      <td>309167</td>\n",
       "      <td>284154</td>\n",
       "    </tr>\n",
       "  </tbody>\n",
       "</table>\n",
       "</div>"
      ],
      "text/plain": [
       "  user_id click_article_id\n",
       "0  266512            74722\n",
       "1  266512            74702\n",
       "2  309167           337143\n",
       "3  309167           237822\n",
       "4  309167           284154"
      ]
     },
     "metadata": {},
     "output_type": "display_data"
    },
    {
     "name": "stdout",
     "output_type": "stream",
     "text": [
      "Shape: (2950710, 2)\n"
     ]
    }
   ],
   "source": [
    "clicks = clicks[['user_id', 'click_article_id']].drop_duplicates()\n",
    "\n",
    "display(clicks.head())\n",
    "print('Shape:', clicks.shape)"
   ]
  },
  {
   "cell_type": "markdown",
   "metadata": {},
   "source": [
    "### Second we can find the article category related to each line, thanks to the articles table"
   ]
  },
  {
   "cell_type": "code",
   "execution_count": 14,
   "metadata": {},
   "outputs": [
    {
     "data": {
      "text/html": [
       "<div>\n",
       "<style scoped>\n",
       "    .dataframe tbody tr th:only-of-type {\n",
       "        vertical-align: middle;\n",
       "    }\n",
       "\n",
       "    .dataframe tbody tr th {\n",
       "        vertical-align: top;\n",
       "    }\n",
       "\n",
       "    .dataframe thead th {\n",
       "        text-align: right;\n",
       "    }\n",
       "</style>\n",
       "<table border=\"1\" class=\"dataframe\">\n",
       "  <thead>\n",
       "    <tr style=\"text-align: right;\">\n",
       "      <th></th>\n",
       "      <th>user_id</th>\n",
       "      <th>article_id</th>\n",
       "      <th>category_id</th>\n",
       "    </tr>\n",
       "  </thead>\n",
       "  <tbody>\n",
       "    <tr>\n",
       "      <th>0</th>\n",
       "      <td>266512</td>\n",
       "      <td>74722</td>\n",
       "      <td>142</td>\n",
       "    </tr>\n",
       "    <tr>\n",
       "      <th>1</th>\n",
       "      <td>266512</td>\n",
       "      <td>74702</td>\n",
       "      <td>142</td>\n",
       "    </tr>\n",
       "    <tr>\n",
       "      <th>2</th>\n",
       "      <td>309167</td>\n",
       "      <td>337143</td>\n",
       "      <td>437</td>\n",
       "    </tr>\n",
       "    <tr>\n",
       "      <th>3</th>\n",
       "      <td>309167</td>\n",
       "      <td>237822</td>\n",
       "      <td>375</td>\n",
       "    </tr>\n",
       "    <tr>\n",
       "      <th>4</th>\n",
       "      <td>309167</td>\n",
       "      <td>284154</td>\n",
       "      <td>412</td>\n",
       "    </tr>\n",
       "  </tbody>\n",
       "</table>\n",
       "</div>"
      ],
      "text/plain": [
       "  user_id  article_id  category_id\n",
       "0  266512       74722          142\n",
       "1  266512       74702          142\n",
       "2  309167      337143          437\n",
       "3  309167      237822          375\n",
       "4  309167      284154          412"
      ]
     },
     "metadata": {},
     "output_type": "display_data"
    },
    {
     "name": "stdout",
     "output_type": "stream",
     "text": [
      "Shape: (2950710, 3)\n"
     ]
    }
   ],
   "source": [
    "clicks = clicks.merge(articles[['article_id', 'category_id']], left_on='click_article_id', right_on='article_id', how='left')\n",
    "clicks = clicks.drop(columns=['click_article_id'])\n",
    "\n",
    "display(clicks.head())\n",
    "print('Shape:', clicks.shape)"
   ]
  },
  {
   "cell_type": "markdown",
   "metadata": {},
   "source": [
    "### Third, we can count how much time a user has been interested in a category"
   ]
  },
  {
   "cell_type": "code",
   "execution_count": 15,
   "metadata": {},
   "outputs": [
    {
     "name": "stdout",
     "output_type": "stream",
     "text": [
      "Categories number: 316\n",
      "Total interests: 2950710\n",
      "Max category interested by a user: 530\n"
     ]
    },
    {
     "data": {
      "text/html": [
       "<div>\n",
       "<style scoped>\n",
       "    .dataframe tbody tr th:only-of-type {\n",
       "        vertical-align: middle;\n",
       "    }\n",
       "\n",
       "    .dataframe tbody tr th {\n",
       "        vertical-align: top;\n",
       "    }\n",
       "\n",
       "    .dataframe thead th {\n",
       "        text-align: right;\n",
       "    }\n",
       "</style>\n",
       "<table border=\"1\" class=\"dataframe\">\n",
       "  <thead>\n",
       "    <tr style=\"text-align: right;\">\n",
       "      <th></th>\n",
       "      <th>user_id</th>\n",
       "      <th>category_id</th>\n",
       "      <th>count</th>\n",
       "    </tr>\n",
       "  </thead>\n",
       "  <tbody>\n",
       "    <tr>\n",
       "      <th>0</th>\n",
       "      <td>0</td>\n",
       "      <td>136</td>\n",
       "      <td>1</td>\n",
       "    </tr>\n",
       "    <tr>\n",
       "      <th>1</th>\n",
       "      <td>0</td>\n",
       "      <td>186</td>\n",
       "      <td>2</td>\n",
       "    </tr>\n",
       "    <tr>\n",
       "      <th>2</th>\n",
       "      <td>0</td>\n",
       "      <td>209</td>\n",
       "      <td>1</td>\n",
       "    </tr>\n",
       "    <tr>\n",
       "      <th>3</th>\n",
       "      <td>0</td>\n",
       "      <td>281</td>\n",
       "      <td>2</td>\n",
       "    </tr>\n",
       "    <tr>\n",
       "      <th>4</th>\n",
       "      <td>0</td>\n",
       "      <td>375</td>\n",
       "      <td>1</td>\n",
       "    </tr>\n",
       "  </tbody>\n",
       "</table>\n",
       "</div>"
      ],
      "text/plain": [
       "   user_id  category_id  count\n",
       "0        0          136      1\n",
       "1        0          186      2\n",
       "2        0          209      1\n",
       "3        0          281      2\n",
       "4        0          375      1"
      ]
     },
     "metadata": {},
     "output_type": "display_data"
    },
    {
     "name": "stdout",
     "output_type": "stream",
     "text": [
      "Shape: (1882302, 3)\n"
     ]
    }
   ],
   "source": [
    "interests = clicks.groupby(['user_id', 'category_id']).count().reset_index().rename(columns={'article_id': 'count'})\n",
    "\n",
    "print('Categories number:', len(interests['category_id'].unique()))\n",
    "print('Total interests:', interests['count'].sum())\n",
    "print('Max category interested by a user:', interests['count'].max())\n",
    "\n",
    "display(interests.head())\n",
    "print('Shape:', interests.shape)"
   ]
  },
  {
   "cell_type": "markdown",
   "metadata": {},
   "source": [
    "### Create Ratings"
   ]
  },
  {
   "cell_type": "markdown",
   "metadata": {},
   "source": [
    "Given these counts, I will take the 5 most appreciated categories for each user and rate consequently: 5 is the prefered category for a user, 1 is the 5th appreciated category for a user. As an precision, if the user only looked at 2 categories, they will be rated as 5 and 4. He will not have a 3, 2, 1 rated categories."
   ]
  },
  {
   "cell_type": "code",
   "execution_count": 16,
   "metadata": {},
   "outputs": [],
   "source": [
    "if os.path.exists(interests_path): interests = pd.read_csv(interests_path)\n",
    "else:\n",
    "    interests['rate'] = pd.NA\n",
    "\n",
    "    interests = interests.set_index(['user_id', 'category_id'])\n",
    "    user_ids = interests.index.get_level_values('user_id').unique().tolist()\n",
    "\n",
    "    u.eta(step='begin', length=len(user_ids), text='Attributing rates')\n",
    "    for user_id in user_ids:\n",
    "        user_interests = interests.loc[user_id].sort_values(by='count').reset_index()\n",
    "\n",
    "        for i in range(0, min(5, len(user_interests))):\n",
    "            interests.loc[user_id, user_interests.at[i, 'category_id']] = 5 - i\n",
    "\n",
    "        u.eta()\n",
    "    u.eta(step='end')\n",
    "\n",
    "    interests = interests.dropna().reset_index()\n",
    "\n",
    "    display(interests.sample(10))\n",
    "    print('Shape:', interests.shape)\n",
    "\n",
    "    interests.to_csv(interests_path, index=False)\n"
   ]
  },
  {
   "cell_type": "markdown",
   "metadata": {},
   "source": [
    "### Using Surprise, we can train a model"
   ]
  },
  {
   "cell_type": "code",
   "execution_count": 17,
   "metadata": {},
   "outputs": [],
   "source": [
    "# to surprise format\n",
    "reader = Reader(rating_scale=(1, 5))\n",
    "data = Dataset.load_from_df(interests[['user_id', 'category_id', 'rate']], reader)\n",
    "\n",
    "# train test split, for later\n",
    "train, test = train_test_split(data, test_size=0.2)"
   ]
  },
  {
   "cell_type": "markdown",
   "metadata": {},
   "source": [
    "### Find best parameters with grid search"
   ]
  },
  {
   "cell_type": "code",
   "execution_count": 18,
   "metadata": {},
   "outputs": [
    {
     "name": "stdout",
     "output_type": "stream",
     "text": [
      "1.3586342261896334\n",
      "{'n_epochs': 7, 'lr_all': 0.005, 'reg_all': 0.8}\n"
     ]
    }
   ],
   "source": [
    "### Find best params ###\n",
    "\n",
    "# Params to search\n",
    "param_grid = {\"n_epochs\": [2, 7], \"lr_all\": [0.005, 0.01], \"reg_all\": [0.8, 0.12]}\n",
    "gs = GridSearchCV(SVD, param_grid, measures=[\"rmse\", \"mae\"], cv=3)\n",
    "\n",
    "# Searching\n",
    "gs.fit(data)\n",
    "\n",
    "# Best RMSE score\n",
    "print(gs.best_score[\"rmse\"])\n",
    "\n",
    "# Combination of parameters that gave the best RMSE score\n",
    "print(gs.best_params[\"rmse\"])"
   ]
  },
  {
   "cell_type": "markdown",
   "metadata": {},
   "source": [
    "### Train the model with best parameters found"
   ]
  },
  {
   "cell_type": "code",
   "execution_count": 19,
   "metadata": {},
   "outputs": [
    {
     "name": "stdout",
     "output_type": "stream",
     "text": [
      "RMSE: 1.3950\n",
      "RMSE: 1.3950457408753014\n"
     ]
    }
   ],
   "source": [
    "model = gs.best_estimator[\"rmse\"]\n",
    "model.fit(train)\n",
    "predictions = model.test(test)\n",
    "\n",
    "print('RMSE:', accuracy.rmse(predictions))"
   ]
  },
  {
   "cell_type": "markdown",
   "metadata": {},
   "source": [
    "### Use the train model to get recommendation"
   ]
  },
  {
   "cell_type": "code",
   "execution_count": 20,
   "metadata": {},
   "outputs": [],
   "source": [
    "def get_recommentations(model, user_id, clicks, categ_nb=5, article_nb=5, verbose=True):\n",
    "    \n",
    "    print('About user <' + str(user_id) + '>:')\n",
    "\n",
    "    # Parse all categories\n",
    "    categories = clicks['category_id'].unique()\n",
    "    # Parse all articles\n",
    "    articles = clicks.groupby('article_id').first().reset_index()[['article_id', 'category_id']]\n",
    "\n",
    "    # Find already read articles by the user\n",
    "    read_articles = clicks[clicks['user_id'] == user_id].groupby('article_id').first().reset_index()['article_id'].tolist()\n",
    "    if verbose: print('    - He already read ' + str(len(read_articles))  + ' articles.')\n",
    "\n",
    "    # read categories\n",
    "    read_categories = clicks[clicks['user_id'] == user_id].groupby('article_id').first().reset_index()['category_id'].tolist()\n",
    "    if verbose: print('    - From ' + str(len(read_categories)) + ' categories.')\n",
    "\n",
    "    # Evaluate interest for this user in all categories:\n",
    "    scores = []\n",
    "    for categ_id in categories:\n",
    "        scores.append({'categ_id': categ_id, 'rate': model.predict(user_id, categ_id)[3]})\n",
    "\n",
    "    # Take 3 most interesting categories\n",
    "    scores = pd.DataFrame(data=scores).sort_values('rate')[-categ_nb:]\n",
    "    # display(scores)\n",
    "\n",
    "    # Parse categories name\n",
    "    selected_categs = scores['categ_id'].tolist()\n",
    "    if verbose: print('Given user\\'s history, we think that he might be interested in discovering categories ' + str(selected_categs))\n",
    "\n",
    "    # Proposition to read articles related to his history\n",
    "    related_articles_recommendation = articles[[row['category_id'] in read_categories for _, row in articles.iterrows()]]\n",
    "    related_articles_recommendation = related_articles_recommendation[[row['article_id'] not in read_articles for _, row in related_articles_recommendation.iterrows()]]\n",
    "    related_articles_recommendation = related_articles_recommendation.sample(article_nb)\n",
    "    if verbose: print('We suggest 5 articles from the categories he already read about:', str(related_articles_recommendation['article_id'].tolist()))\n",
    "\n",
    "    # Proposition to read articles from new categories\n",
    "    selected_articles = articles[[row['category_id'] in selected_categs for _, row in articles.iterrows()]]\n",
    "    selected_articles = selected_articles.sample(article_nb)\n",
    "    if verbose: print('We suggest 5 articles from new categories:', str(selected_articles['article_id'].tolist()))\n",
    "\n",
    "    # Proposition to read articles he already read\n",
    "    if verbose: print('We suggest 5 articles to read again:', str(sample(read_articles, min(article_nb, len(read_articles)))))\n",
    "\n",
    "    return selected_articles['article_id'].tolist()"
   ]
  },
  {
   "cell_type": "code",
   "execution_count": 21,
   "metadata": {},
   "outputs": [
    {
     "name": "stdout",
     "output_type": "stream",
     "text": [
      "About user <31625>:\n",
      "    - He already read 39 articles.\n",
      "    - From 39 categories.\n",
      "Given user's history, we think that he might be interested in discovering categories [6, 4, 25, 9, 1]\n",
      "We suggest 5 articles from the categories he already read about: [111305, 288768, 97023, 94698, 33665]\n",
      "We suggest 5 articles from new categories: [5450, 892, 8160, 2206, 3506]\n",
      "We suggest 5 articles to read again: [36162, 59057, 336220, 236610, 338340]\n"
     ]
    },
    {
     "data": {
      "text/plain": [
       "[5450, 892, 8160, 2206, 3506]"
      ]
     },
     "execution_count": 21,
     "metadata": {},
     "output_type": "execute_result"
    }
   ],
   "source": [
    "get_recommentations(model, 31625, clicks)"
   ]
  },
  {
   "cell_type": "markdown",
   "metadata": {},
   "source": [
    "### Model evaluation"
   ]
  },
  {
   "cell_type": "markdown",
   "metadata": {},
   "source": [
    "Our final goal here is to really get articles: we want our model to give a list of artciles, and not categories. But as I explained at the chapter begining, we are not able to use 100% Collaborative Filtering. So the way I do it here, is that I give a random set of articles in the new categories. So given the data we have, it is pretty unpossible to evaluate this model. It would be more accurate, in the future when we will have ratings, and not only clicks, because their we will be able to ask our model the rate he thinks the user would give.\n",
    "\n",
    "Because of this explaination, I am not able to give a proper model evaluation."
   ]
  },
  {
   "cell_type": "markdown",
   "metadata": {},
   "source": [
    "# Content based recommendation"
   ]
  },
  {
   "cell_type": "markdown",
   "metadata": {},
   "source": [
    "### Fetch all embeddings and filter them only on article we have"
   ]
  },
  {
   "cell_type": "code",
   "execution_count": 22,
   "metadata": {},
   "outputs": [],
   "source": [
    "article_ids = clicks['article_id'].unique()\n",
    "article_ids.sort()\n",
    "\n",
    "embeddings = pd.DataFrame(pd.read_pickle(articles_embeddings_path)[article_ids])\n",
    "embeddings['article_id'] = article_ids\n",
    "\n",
    "embeddings.set_index('article_id', inplace=True)"
   ]
  },
  {
   "cell_type": "markdown",
   "metadata": {},
   "source": [
    "### Out of these embeddings, we can calculate the cosine distance of all elements"
   ]
  },
  {
   "cell_type": "code",
   "execution_count": 23,
   "metadata": {},
   "outputs": [
    {
     "data": {
      "text/html": [
       "<div>\n",
       "<style scoped>\n",
       "    .dataframe tbody tr th:only-of-type {\n",
       "        vertical-align: middle;\n",
       "    }\n",
       "\n",
       "    .dataframe tbody tr th {\n",
       "        vertical-align: top;\n",
       "    }\n",
       "\n",
       "    .dataframe thead th {\n",
       "        text-align: right;\n",
       "    }\n",
       "</style>\n",
       "<table border=\"1\" class=\"dataframe\">\n",
       "  <thead>\n",
       "    <tr style=\"text-align: right;\">\n",
       "      <th></th>\n",
       "      <th>0</th>\n",
       "      <th>1</th>\n",
       "      <th>2</th>\n",
       "      <th>3</th>\n",
       "      <th>4</th>\n",
       "      <th>5</th>\n",
       "      <th>6</th>\n",
       "      <th>7</th>\n",
       "      <th>8</th>\n",
       "      <th>9</th>\n",
       "      <th>...</th>\n",
       "      <th>46023</th>\n",
       "      <th>46024</th>\n",
       "      <th>46025</th>\n",
       "      <th>46026</th>\n",
       "      <th>46027</th>\n",
       "      <th>46028</th>\n",
       "      <th>46029</th>\n",
       "      <th>46030</th>\n",
       "      <th>46031</th>\n",
       "      <th>46032</th>\n",
       "    </tr>\n",
       "  </thead>\n",
       "  <tbody>\n",
       "    <tr>\n",
       "      <th>0</th>\n",
       "      <td>0.000000</td>\n",
       "      <td>7.882572</td>\n",
       "      <td>7.470047</td>\n",
       "      <td>6.515638</td>\n",
       "      <td>7.820099e+00</td>\n",
       "      <td>6.982946</td>\n",
       "      <td>6.265001</td>\n",
       "      <td>5.689640</td>\n",
       "      <td>5.836247</td>\n",
       "      <td>5.313015</td>\n",
       "      <td>...</td>\n",
       "      <td>9.858486</td>\n",
       "      <td>8.737204</td>\n",
       "      <td>7.976662</td>\n",
       "      <td>10.635247</td>\n",
       "      <td>9.344304</td>\n",
       "      <td>9.949376</td>\n",
       "      <td>8.633915</td>\n",
       "      <td>9.161494</td>\n",
       "      <td>13.610046</td>\n",
       "      <td>13.563384</td>\n",
       "    </tr>\n",
       "    <tr>\n",
       "      <th>1</th>\n",
       "      <td>7.882572</td>\n",
       "      <td>0.000000</td>\n",
       "      <td>8.168793</td>\n",
       "      <td>6.575541</td>\n",
       "      <td>7.147851e+00</td>\n",
       "      <td>7.634899</td>\n",
       "      <td>8.348408</td>\n",
       "      <td>6.800438</td>\n",
       "      <td>6.449251</td>\n",
       "      <td>6.848608</td>\n",
       "      <td>...</td>\n",
       "      <td>10.919773</td>\n",
       "      <td>10.520000</td>\n",
       "      <td>9.020837</td>\n",
       "      <td>11.756326</td>\n",
       "      <td>9.963226</td>\n",
       "      <td>10.501428</td>\n",
       "      <td>9.445128</td>\n",
       "      <td>11.662559</td>\n",
       "      <td>12.836118</td>\n",
       "      <td>13.056603</td>\n",
       "    </tr>\n",
       "    <tr>\n",
       "      <th>2</th>\n",
       "      <td>7.470047</td>\n",
       "      <td>8.168793</td>\n",
       "      <td>0.000000</td>\n",
       "      <td>6.319355</td>\n",
       "      <td>5.869715e+00</td>\n",
       "      <td>5.880710</td>\n",
       "      <td>7.652683</td>\n",
       "      <td>6.133742</td>\n",
       "      <td>6.055546</td>\n",
       "      <td>5.860006</td>\n",
       "      <td>...</td>\n",
       "      <td>10.033975</td>\n",
       "      <td>8.386857</td>\n",
       "      <td>8.385613</td>\n",
       "      <td>10.541625</td>\n",
       "      <td>8.310367</td>\n",
       "      <td>9.661808</td>\n",
       "      <td>7.528646</td>\n",
       "      <td>8.129425</td>\n",
       "      <td>11.947488</td>\n",
       "      <td>12.290769</td>\n",
       "    </tr>\n",
       "    <tr>\n",
       "      <th>3</th>\n",
       "      <td>6.515638</td>\n",
       "      <td>6.575541</td>\n",
       "      <td>6.319355</td>\n",
       "      <td>0.000000</td>\n",
       "      <td>5.925045e+00</td>\n",
       "      <td>6.593197</td>\n",
       "      <td>7.203876</td>\n",
       "      <td>5.420918</td>\n",
       "      <td>3.717032</td>\n",
       "      <td>5.527822</td>\n",
       "      <td>...</td>\n",
       "      <td>9.936636</td>\n",
       "      <td>8.852542</td>\n",
       "      <td>7.488962</td>\n",
       "      <td>10.221013</td>\n",
       "      <td>8.710424</td>\n",
       "      <td>9.361427</td>\n",
       "      <td>7.418221</td>\n",
       "      <td>9.287843</td>\n",
       "      <td>12.577511</td>\n",
       "      <td>12.674871</td>\n",
       "    </tr>\n",
       "    <tr>\n",
       "      <th>4</th>\n",
       "      <td>7.820099</td>\n",
       "      <td>7.147851</td>\n",
       "      <td>5.869715</td>\n",
       "      <td>5.925045</td>\n",
       "      <td>1.685874e-07</td>\n",
       "      <td>7.686110</td>\n",
       "      <td>9.021694</td>\n",
       "      <td>5.617771</td>\n",
       "      <td>5.503468</td>\n",
       "      <td>5.053046</td>\n",
       "      <td>...</td>\n",
       "      <td>10.701922</td>\n",
       "      <td>9.647336</td>\n",
       "      <td>8.829139</td>\n",
       "      <td>12.229038</td>\n",
       "      <td>9.371007</td>\n",
       "      <td>11.157445</td>\n",
       "      <td>8.728456</td>\n",
       "      <td>10.442371</td>\n",
       "      <td>12.844716</td>\n",
       "      <td>13.160443</td>\n",
       "    </tr>\n",
       "  </tbody>\n",
       "</table>\n",
       "<p>5 rows × 46033 columns</p>\n",
       "</div>"
      ],
      "text/plain": [
       "      0         1         2         3             4         5         6      \\\n",
       "0  0.000000  7.882572  7.470047  6.515638  7.820099e+00  6.982946  6.265001   \n",
       "1  7.882572  0.000000  8.168793  6.575541  7.147851e+00  7.634899  8.348408   \n",
       "2  7.470047  8.168793  0.000000  6.319355  5.869715e+00  5.880710  7.652683   \n",
       "3  6.515638  6.575541  6.319355  0.000000  5.925045e+00  6.593197  7.203876   \n",
       "4  7.820099  7.147851  5.869715  5.925045  1.685874e-07  7.686110  9.021694   \n",
       "\n",
       "      7         8         9      ...      46023      46024     46025  \\\n",
       "0  5.689640  5.836247  5.313015  ...   9.858486   8.737204  7.976662   \n",
       "1  6.800438  6.449251  6.848608  ...  10.919773  10.520000  9.020837   \n",
       "2  6.133742  6.055546  5.860006  ...  10.033975   8.386857  8.385613   \n",
       "3  5.420918  3.717032  5.527822  ...   9.936636   8.852542  7.488962   \n",
       "4  5.617771  5.503468  5.053046  ...  10.701922   9.647336  8.829139   \n",
       "\n",
       "       46026     46027      46028     46029      46030      46031      46032  \n",
       "0  10.635247  9.344304   9.949376  8.633915   9.161494  13.610046  13.563384  \n",
       "1  11.756326  9.963226  10.501428  9.445128  11.662559  12.836118  13.056603  \n",
       "2  10.541625  8.310367   9.661808  7.528646   8.129425  11.947488  12.290769  \n",
       "3  10.221013  8.710424   9.361427  7.418221   9.287843  12.577511  12.674871  \n",
       "4  12.229038  9.371007  11.157445  8.728456  10.442371  12.844716  13.160443  \n",
       "\n",
       "[5 rows x 46033 columns]"
      ]
     },
     "execution_count": 23,
     "metadata": {},
     "output_type": "execute_result"
    }
   ],
   "source": [
    "distances = euclidean_distances(embeddings, embeddings)\n",
    "distances_df = pd.DataFrame(distances)\n",
    "\n",
    "distances_df.head()"
   ]
  },
  {
   "cell_type": "markdown",
   "metadata": {},
   "source": [
    "### Get users categories preferences"
   ]
  },
  {
   "cell_type": "markdown",
   "metadata": {},
   "source": [
    "In the same manner that we did with the collaborative filtering, I take the rates that I did before as a weight for each category. When we will propose articles, these weights will be used to ponderate choice and make them more personalized for the user."
   ]
  },
  {
   "cell_type": "code",
   "execution_count": 24,
   "metadata": {},
   "outputs": [
    {
     "data": {
      "text/html": [
       "<div>\n",
       "<style scoped>\n",
       "    .dataframe tbody tr th:only-of-type {\n",
       "        vertical-align: middle;\n",
       "    }\n",
       "\n",
       "    .dataframe tbody tr th {\n",
       "        vertical-align: top;\n",
       "    }\n",
       "\n",
       "    .dataframe thead th {\n",
       "        text-align: right;\n",
       "    }\n",
       "</style>\n",
       "<table border=\"1\" class=\"dataframe\">\n",
       "  <thead>\n",
       "    <tr style=\"text-align: right;\">\n",
       "      <th></th>\n",
       "      <th>user_id</th>\n",
       "      <th>category_id</th>\n",
       "      <th>rate</th>\n",
       "    </tr>\n",
       "  </thead>\n",
       "  <tbody>\n",
       "    <tr>\n",
       "      <th>1061415</th>\n",
       "      <td>296995</td>\n",
       "      <td>399</td>\n",
       "      <td>5</td>\n",
       "    </tr>\n",
       "    <tr>\n",
       "      <th>1061813</th>\n",
       "      <td>297149</td>\n",
       "      <td>118</td>\n",
       "      <td>5</td>\n",
       "    </tr>\n",
       "    <tr>\n",
       "      <th>543552</th>\n",
       "      <td>133460</td>\n",
       "      <td>412</td>\n",
       "      <td>2</td>\n",
       "    </tr>\n",
       "    <tr>\n",
       "      <th>388897</th>\n",
       "      <td>93790</td>\n",
       "      <td>297</td>\n",
       "      <td>4</td>\n",
       "    </tr>\n",
       "    <tr>\n",
       "      <th>509779</th>\n",
       "      <td>124824</td>\n",
       "      <td>209</td>\n",
       "      <td>5</td>\n",
       "    </tr>\n",
       "  </tbody>\n",
       "</table>\n",
       "</div>"
      ],
      "text/plain": [
       "         user_id  category_id  rate\n",
       "1061415   296995          399     5\n",
       "1061813   297149          118     5\n",
       "543552    133460          412     2\n",
       "388897     93790          297     4\n",
       "509779    124824          209     5"
      ]
     },
     "execution_count": 24,
     "metadata": {},
     "output_type": "execute_result"
    }
   ],
   "source": [
    "interests = pd.read_csv(interests_path)[['user_id', 'category_id', 'rate']]\n",
    "interests.sample(5)"
   ]
  },
  {
   "cell_type": "markdown",
   "metadata": {},
   "source": [
    "### Calculate user's article recommendation"
   ]
  },
  {
   "cell_type": "code",
   "execution_count": 25,
   "metadata": {},
   "outputs": [
    {
     "name": "stdout",
     "output_type": "stream",
     "text": [
      "Already read articles:\n"
     ]
    },
    {
     "data": {
      "text/html": [
       "<div>\n",
       "<style scoped>\n",
       "    .dataframe tbody tr th:only-of-type {\n",
       "        vertical-align: middle;\n",
       "    }\n",
       "\n",
       "    .dataframe tbody tr th {\n",
       "        vertical-align: top;\n",
       "    }\n",
       "\n",
       "    .dataframe thead th {\n",
       "        text-align: right;\n",
       "    }\n",
       "</style>\n",
       "<table border=\"1\" class=\"dataframe\">\n",
       "  <thead>\n",
       "    <tr style=\"text-align: right;\">\n",
       "      <th></th>\n",
       "      <th>user_id</th>\n",
       "      <th>article_id</th>\n",
       "      <th>category_id</th>\n",
       "      <th>weight</th>\n",
       "      <th>index</th>\n",
       "    </tr>\n",
       "  </thead>\n",
       "  <tbody>\n",
       "    <tr>\n",
       "      <th>1</th>\n",
       "      <td>309167</td>\n",
       "      <td>237822</td>\n",
       "      <td>375</td>\n",
       "      <td>2.0</td>\n",
       "      <td>32006</td>\n",
       "    </tr>\n",
       "    <tr>\n",
       "      <th>2</th>\n",
       "      <td>309167</td>\n",
       "      <td>284154</td>\n",
       "      <td>412</td>\n",
       "      <td>1.0</td>\n",
       "      <td>37020</td>\n",
       "    </tr>\n",
       "    <tr>\n",
       "      <th>3</th>\n",
       "      <td>309167</td>\n",
       "      <td>159652</td>\n",
       "      <td>281</td>\n",
       "      <td>5.0</td>\n",
       "      <td>21746</td>\n",
       "    </tr>\n",
       "    <tr>\n",
       "      <th>4</th>\n",
       "      <td>309167</td>\n",
       "      <td>207603</td>\n",
       "      <td>331</td>\n",
       "      <td>4.0</td>\n",
       "      <td>27772</td>\n",
       "    </tr>\n",
       "    <tr>\n",
       "      <th>6</th>\n",
       "      <td>309167</td>\n",
       "      <td>214753</td>\n",
       "      <td>348</td>\n",
       "      <td>3.0</td>\n",
       "      <td>28757</td>\n",
       "    </tr>\n",
       "  </tbody>\n",
       "</table>\n",
       "</div>"
      ],
      "text/plain": [
       "  user_id  article_id  category_id  weight  index\n",
       "1  309167      237822          375     2.0  32006\n",
       "2  309167      284154          412     1.0  37020\n",
       "3  309167      159652          281     5.0  21746\n",
       "4  309167      207603          331     4.0  27772\n",
       "6  309167      214753          348     3.0  28757"
      ]
     },
     "metadata": {},
     "output_type": "display_data"
    },
    {
     "name": "stdout",
     "output_type": "stream",
     "text": [
      "Selection details:\n"
     ]
    },
    {
     "data": {
      "text/html": [
       "<div>\n",
       "<style scoped>\n",
       "    .dataframe tbody tr th:only-of-type {\n",
       "        vertical-align: middle;\n",
       "    }\n",
       "\n",
       "    .dataframe tbody tr th {\n",
       "        vertical-align: top;\n",
       "    }\n",
       "\n",
       "    .dataframe thead th {\n",
       "        text-align: right;\n",
       "    }\n",
       "</style>\n",
       "<table border=\"1\" class=\"dataframe\">\n",
       "  <thead>\n",
       "    <tr style=\"text-align: right;\">\n",
       "      <th></th>\n",
       "      <th>article_id</th>\n",
       "      <th>dist</th>\n",
       "      <th>coming_from</th>\n",
       "    </tr>\n",
       "  </thead>\n",
       "  <tbody>\n",
       "    <tr>\n",
       "      <th>0</th>\n",
       "      <td>78927</td>\n",
       "      <td>2.800828</td>\n",
       "      <td>159652</td>\n",
       "    </tr>\n",
       "    <tr>\n",
       "      <th>1</th>\n",
       "      <td>81125</td>\n",
       "      <td>2.802069</td>\n",
       "      <td>159652</td>\n",
       "    </tr>\n",
       "    <tr>\n",
       "      <th>2</th>\n",
       "      <td>186459</td>\n",
       "      <td>2.806345</td>\n",
       "      <td>159652</td>\n",
       "    </tr>\n",
       "    <tr>\n",
       "      <th>3</th>\n",
       "      <td>82081</td>\n",
       "      <td>2.810376</td>\n",
       "      <td>159652</td>\n",
       "    </tr>\n",
       "    <tr>\n",
       "      <th>4</th>\n",
       "      <td>82948</td>\n",
       "      <td>2.878017</td>\n",
       "      <td>159652</td>\n",
       "    </tr>\n",
       "  </tbody>\n",
       "</table>\n",
       "</div>"
      ],
      "text/plain": [
       "   article_id      dist  coming_from\n",
       "0       78927  2.800828       159652\n",
       "1       81125  2.802069       159652\n",
       "2      186459  2.806345       159652\n",
       "3       82081  2.810376       159652\n",
       "4       82948  2.878017       159652"
      ]
     },
     "metadata": {},
     "output_type": "display_data"
    },
    {
     "data": {
      "text/plain": [
       "[78927, 81125, 186459, 82081, 82948]"
      ]
     },
     "execution_count": 25,
     "metadata": {},
     "output_type": "execute_result"
    }
   ],
   "source": [
    "def get_recommendation(interests, clicks, distances, articles_ids, user_id, nb=5, verbose=False):\n",
    "    articles_ids = articles_ids.tolist()\n",
    "\n",
    "    # Get user already read articles\n",
    "    articles = clicks[clicks['user_id'] == user_id]\n",
    "\n",
    "    # Merge the weights\n",
    "    articles = articles.merge(interests, on=['user_id', 'category_id'], how='left').rename(columns={'rate':'weight'})\n",
    "    \n",
    "    # We drop the categories that does not interests the user\n",
    "    articles.dropna(inplace=True)\n",
    "\n",
    "    # Get the indexes of articles\n",
    "    articles['index'] = [articles_ids.index(article_id) for article_id in articles['article_id']]\n",
    "    avoid_indexes = articles['index'].tolist()\n",
    "\n",
    "    if verbose: \n",
    "        print('Already read articles:')\n",
    "        display(articles)\n",
    "\n",
    "    # For each articles read, we get the five closest **that the user did not read yet**\n",
    "    closests = []\n",
    "    for i, row in articles.iterrows():\n",
    "        dists = distances.loc[row['index']].drop(index=avoid_indexes)\n",
    "        closest = dists.sort_values(ascending=False)[:nb] / row['weight']\n",
    "        for ind, val in closest.iteritems():\n",
    "            # print(ind, val, articles_ids[ind])\n",
    "            closests.append({'article_id': articles_ids[ind], 'dist': val, 'coming_from': row['article_id']})\n",
    "\n",
    "    closests.sort(key=lambda x: x['dist'])\n",
    "    selection = pd.DataFrame(closests[:nb])\n",
    "    if verbose: \n",
    "        print('Selection details:')\n",
    "        display(selection)\n",
    "\n",
    "    return selection['article_id'].tolist()\n",
    "\n",
    "\n",
    "get_recommendation(interests, clicks, distances_df, article_ids, 309167, 5, True)"
   ]
  },
  {
   "cell_type": "code",
   "execution_count": 26,
   "metadata": {},
   "outputs": [
    {
     "name": "stdout",
     "output_type": "stream",
     "text": [
      "Already read articles:\n"
     ]
    },
    {
     "data": {
      "text/html": [
       "<div>\n",
       "<style scoped>\n",
       "    .dataframe tbody tr th:only-of-type {\n",
       "        vertical-align: middle;\n",
       "    }\n",
       "\n",
       "    .dataframe tbody tr th {\n",
       "        vertical-align: top;\n",
       "    }\n",
       "\n",
       "    .dataframe thead th {\n",
       "        text-align: right;\n",
       "    }\n",
       "</style>\n",
       "<table border=\"1\" class=\"dataframe\">\n",
       "  <thead>\n",
       "    <tr style=\"text-align: right;\">\n",
       "      <th></th>\n",
       "      <th>user_id</th>\n",
       "      <th>article_id</th>\n",
       "      <th>category_id</th>\n",
       "      <th>weight</th>\n",
       "      <th>index</th>\n",
       "    </tr>\n",
       "  </thead>\n",
       "  <tbody>\n",
       "    <tr>\n",
       "      <th>2</th>\n",
       "      <td>68321</td>\n",
       "      <td>70999</td>\n",
       "      <td>136</td>\n",
       "      <td>4.0</td>\n",
       "      <td>9727</td>\n",
       "    </tr>\n",
       "    <tr>\n",
       "      <th>4</th>\n",
       "      <td>68321</td>\n",
       "      <td>207311</td>\n",
       "      <td>331</td>\n",
       "      <td>2.0</td>\n",
       "      <td>27716</td>\n",
       "    </tr>\n",
       "    <tr>\n",
       "      <th>7</th>\n",
       "      <td>68321</td>\n",
       "      <td>214800</td>\n",
       "      <td>348</td>\n",
       "      <td>1.0</td>\n",
       "      <td>28766</td>\n",
       "    </tr>\n",
       "    <tr>\n",
       "      <th>8</th>\n",
       "      <td>68321</td>\n",
       "      <td>111210</td>\n",
       "      <td>231</td>\n",
       "      <td>3.0</td>\n",
       "      <td>16225</td>\n",
       "    </tr>\n",
       "    <tr>\n",
       "      <th>12</th>\n",
       "      <td>68321</td>\n",
       "      <td>16129</td>\n",
       "      <td>7</td>\n",
       "      <td>5.0</td>\n",
       "      <td>1691</td>\n",
       "    </tr>\n",
       "  </tbody>\n",
       "</table>\n",
       "</div>"
      ],
      "text/plain": [
       "   user_id  article_id  category_id  weight  index\n",
       "2    68321       70999          136     4.0   9727\n",
       "4    68321      207311          331     2.0  27716\n",
       "7    68321      214800          348     1.0  28766\n",
       "8    68321      111210          231     3.0  16225\n",
       "12   68321       16129            7     5.0   1691"
      ]
     },
     "metadata": {},
     "output_type": "display_data"
    },
    {
     "name": "stdout",
     "output_type": "stream",
     "text": [
      "Selection details:\n"
     ]
    },
    {
     "data": {
      "text/html": [
       "<div>\n",
       "<style scoped>\n",
       "    .dataframe tbody tr th:only-of-type {\n",
       "        vertical-align: middle;\n",
       "    }\n",
       "\n",
       "    .dataframe tbody tr th {\n",
       "        vertical-align: top;\n",
       "    }\n",
       "\n",
       "    .dataframe thead th {\n",
       "        text-align: right;\n",
       "    }\n",
       "</style>\n",
       "<table border=\"1\" class=\"dataframe\">\n",
       "  <thead>\n",
       "    <tr style=\"text-align: right;\">\n",
       "      <th></th>\n",
       "      <th>article_id</th>\n",
       "      <th>dist</th>\n",
       "      <th>coming_from</th>\n",
       "    </tr>\n",
       "  </thead>\n",
       "  <tbody>\n",
       "    <tr>\n",
       "      <th>0</th>\n",
       "      <td>166468</td>\n",
       "      <td>2.587234</td>\n",
       "      <td>16129</td>\n",
       "    </tr>\n",
       "    <tr>\n",
       "      <th>1</th>\n",
       "      <td>41692</td>\n",
       "      <td>2.587910</td>\n",
       "      <td>16129</td>\n",
       "    </tr>\n",
       "    <tr>\n",
       "      <th>2</th>\n",
       "      <td>165396</td>\n",
       "      <td>2.591462</td>\n",
       "      <td>16129</td>\n",
       "    </tr>\n",
       "    <tr>\n",
       "      <th>3</th>\n",
       "      <td>64246</td>\n",
       "      <td>2.594901</td>\n",
       "      <td>16129</td>\n",
       "    </tr>\n",
       "    <tr>\n",
       "      <th>4</th>\n",
       "      <td>355746</td>\n",
       "      <td>2.630863</td>\n",
       "      <td>16129</td>\n",
       "    </tr>\n",
       "  </tbody>\n",
       "</table>\n",
       "</div>"
      ],
      "text/plain": [
       "   article_id      dist  coming_from\n",
       "0      166468  2.587234        16129\n",
       "1       41692  2.587910        16129\n",
       "2      165396  2.591462        16129\n",
       "3       64246  2.594901        16129\n",
       "4      355746  2.630863        16129"
      ]
     },
     "metadata": {},
     "output_type": "display_data"
    },
    {
     "data": {
      "text/plain": [
       "[166468, 41692, 165396, 64246, 355746]"
      ]
     },
     "execution_count": 26,
     "metadata": {},
     "output_type": "execute_result"
    }
   ],
   "source": [
    "# test if the web app say the same as here\n",
    "get_recommendation(interests, clicks, distances_df, article_ids, 68321, 5, True)"
   ]
  },
  {
   "cell_type": "markdown",
   "metadata": {},
   "source": [
    "### Model evaluation"
   ]
  },
  {
   "cell_type": "markdown",
   "metadata": {},
   "source": [
    "Once again we have difficulties to evaluate this model because we have no real ratings of articles. We can use the model in the mean time, test it ourselves for a first start, and update the model along the way with increasing ratings from customers. \n",
    "\n",
    "The underlying problem is that we do not know if our propositions satisfy users or not. To have a correct model evaluation, we would need to put our recommendation inside a list of random recommandations, and see if they are prefered by users or not. The reason to have this procedure is that we don't know now which proposition the user already have or not. We only know on which he clicked and that is not sufficent to determine correct rates about articles (better than supposed rates on categories)."
   ]
  },
  {
   "cell_type": "markdown",
   "metadata": {},
   "source": [
    "# Chosen model"
   ]
  },
  {
   "cell_type": "markdown",
   "metadata": {},
   "source": [
    "With the help of the above justifications, we chose, as a first start to use the content based recommendation system, because it allow us to have general feeling for new user, and to directly use the embeddings of new articles."
   ]
  },
  {
   "cell_type": "markdown",
   "metadata": {},
   "source": [
    "# Making files for the server"
   ]
  },
  {
   "cell_type": "code",
   "execution_count": 27,
   "metadata": {},
   "outputs": [],
   "source": [
    "clicks['user_id'].drop_duplicates().to_csv('../server/data/user_ids.csv')\n",
    "interests.to_csv('../server/data/interests.csv', index=False)\n",
    "clicks.to_csv('../server/data/clicks.csv', index=False)\n",
    "np.save('../server/data/distances', distances)\n",
    "np.save('../server/data/article_ids', article_ids)"
   ]
  }
 ],
 "metadata": {
  "kernelspec": {
   "display_name": "Python 3.8.10 64-bit",
   "language": "python",
   "name": "python3"
  },
  "language_info": {
   "codemirror_mode": {
    "name": "ipython",
    "version": 3
   },
   "file_extension": ".py",
   "mimetype": "text/x-python",
   "name": "python",
   "nbconvert_exporter": "python",
   "pygments_lexer": "ipython3",
   "version": "3.8.10"
  },
  "orig_nbformat": 4,
  "vscode": {
   "interpreter": {
    "hash": "916dbcbb3f70747c44a77c7bcd40155683ae19c65e1c03b4aa3499c5328201f1"
   }
  }
 },
 "nbformat": 4,
 "nbformat_minor": 2
}
